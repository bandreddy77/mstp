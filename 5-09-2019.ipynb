{
 "cells": [
  {
   "cell_type": "markdown",
   "metadata": {},
   "source": [
    "### working with files in python\n",
    "### file\n",
    "#### Document to store information or data"
   ]
  },
  {
   "cell_type": "markdown",
   "metadata": {},
   "source": [
    "###  read and write"
   ]
  },
  {
   "cell_type": "markdown",
   "metadata": {},
   "source": [
    "### 3 steps to work with files in python\n",
    "#### 1. open the file\n",
    "#### 2.do operations what you require\n",
    "3.close the file"
   ]
  },
  {
   "cell_type": "markdown",
   "metadata": {},
   "source": [
    "### Reading the file"
   ]
  },
  {
   "cell_type": "code",
   "execution_count": 4,
   "metadata": {},
   "outputs": [
    {
     "name": "stdout",
     "output_type": "stream",
     "text": [
      "line^\n",
      "line@\n",
      "line#\n",
      "line%\n",
      "line&\n",
      "line*\n"
     ]
    }
   ],
   "source": [
    "fh = open('book.txt','r')\n",
    "data=fh.read()\n",
    "print(data)\n",
    "fh.close()"
   ]
  },
  {
   "cell_type": "markdown",
   "metadata": {},
   "source": [
    "### Writing into the file"
   ]
  },
  {
   "cell_type": "code",
   "execution_count": 5,
   "metadata": {},
   "outputs": [],
   "source": [
    "fh = open('book1.txt','w')\n",
    "fh.write('hi hello')\n",
    "\n",
    "fh.close()"
   ]
  },
  {
   "cell_type": "code",
   "execution_count": 15,
   "metadata": {},
   "outputs": [],
   "source": [
    "fh = open('book1.txt','w')\n",
    "fh.write('who are you')\n",
    "\n",
    "fh.close()"
   ]
  },
  {
   "cell_type": "code",
   "execution_count": 18,
   "metadata": {},
   "outputs": [],
   "source": [
    "fh = open('book.txt','r')\n",
    "fh1=open(\"book1.txt\",'w')\n",
    "data=fh.read()\n",
    "fh1.write(data)\n",
    "fh1.close()\n",
    "\n",
    "fh.close()"
   ]
  },
  {
   "cell_type": "markdown",
   "metadata": {},
   "source": [
    "### append mode()"
   ]
  },
  {
   "cell_type": "code",
   "execution_count": 20,
   "metadata": {},
   "outputs": [],
   "source": [
    "fh = open('book1.txt','a')\n",
    "fh.write('where are you from')\n",
    "\n",
    "fh.close()"
   ]
  },
  {
   "cell_type": "code",
   "execution_count": 23,
   "metadata": {},
   "outputs": [
    {
     "name": "stdout",
     "output_type": "stream",
     "text": [
      "6\n"
     ]
    }
   ],
   "source": [
    "fh = open('book.txt','r')\n",
    "c=0\n",
    "for i in fh:\n",
    "    c=c+1\n",
    "print(c)\n",
    "    \n",
    "fh.close()"
   ]
  },
  {
   "cell_type": "markdown",
   "metadata": {},
   "source": [
    "### update mode()"
   ]
  },
  {
   "cell_type": "code",
   "execution_count": 29,
   "metadata": {},
   "outputs": [
    {
     "name": "stdout",
     "output_type": "stream",
     "text": [
      "4\n"
     ]
    }
   ],
   "source": [
    "fh=open('book.txt','r+')\n",
    "print(fh.write('siri'))\n",
    "fh.close()"
   ]
  },
  {
   "cell_type": "code",
   "execution_count": 24,
   "metadata": {},
   "outputs": [
    {
     "name": "stdout",
     "output_type": "stream",
     "text": [
      "0\n",
      "34\n",
      "34\n",
      "\n"
     ]
    }
   ],
   "source": [
    "fh=open('book.txt','r')\n",
    "print(fh.tell())\n",
    "data=fh.read()\n",
    "print(fh.tell())\n",
    "data=fh.read()\n",
    "print(fh.tell())\n",
    "print(data)\n",
    "fh.close()"
   ]
  },
  {
   "cell_type": "code",
   "execution_count": 25,
   "metadata": {},
   "outputs": [
    {
     "name": "stdout",
     "output_type": "stream",
     "text": [
      "0\n",
      "34\n",
      "5\n",
      "1\n",
      "line 2\n",
      "line 3\n",
      "line 4\n",
      "line 5\n"
     ]
    }
   ],
   "source": [
    "fh=open('book.txt','r')\n",
    "print(fh.tell())\n",
    "data=fh.read()\n",
    "print(fh.tell())\n",
    "fh.seek(5)\n",
    "print(fh.tell())\n",
    "data=fh.read()\n",
    "print(data)\n",
    "fh.close()"
   ]
  },
  {
   "cell_type": "code",
   "execution_count": null,
   "metadata": {},
   "outputs": [],
   "source": [
    "fh=open('book.txt','w+')\n",
    "print(fh.read())\n",
    "fh.close()"
   ]
  },
  {
   "cell_type": "code",
   "execution_count": 32,
   "metadata": {},
   "outputs": [
    {
     "name": "stdout",
     "output_type": "stream",
     "text": [
      "['line 2\\n', 'line 3\\n', 'line 4\\n', 'line 5']\n"
     ]
    }
   ],
   "source": [
    "fh=open('book.txt','r')\n",
    "data=fh.readline()\n",
    "data=fh.readlines()\n",
    "\n",
    "print(data)\n",
    "fh.close()"
   ]
  },
  {
   "cell_type": "code",
   "execution_count": null,
   "metadata": {},
   "outputs": [],
   "source": []
  }
 ],
 "metadata": {
  "kernelspec": {
   "display_name": "Python 3",
   "language": "python",
   "name": "python3"
  },
  "language_info": {
   "codemirror_mode": {
    "name": "ipython",
    "version": 3
   },
   "file_extension": ".py",
   "mimetype": "text/x-python",
   "name": "python",
   "nbconvert_exporter": "python",
   "pygments_lexer": "ipython3",
   "version": "3.7.3"
  }
 },
 "nbformat": 4,
 "nbformat_minor": 2
}
