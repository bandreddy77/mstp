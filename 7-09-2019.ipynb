{
 "cells": [
  {
   "cell_type": "markdown",
   "metadata": {},
   "source": [
    "### modules and packages in python\n",
    "#### a python file contains function and python statements is called modules"
   ]
  },
  {
   "cell_type": "code",
   "execution_count": 1,
   "metadata": {},
   "outputs": [],
   "source": [
    "sum=10"
   ]
  },
  {
   "cell_type": "code",
   "execution_count": 2,
   "metadata": {},
   "outputs": [
    {
     "data": {
      "text/plain": [
       "10"
      ]
     },
     "execution_count": 2,
     "metadata": {},
     "output_type": "execute_result"
    }
   ],
   "source": [
    "sum"
   ]
  },
  {
   "cell_type": "code",
   "execution_count": 3,
   "metadata": {
    "scrolled": true
   },
   "outputs": [
    {
     "ename": "NameError",
     "evalue": "name 'a' is not defined",
     "output_type": "error",
     "traceback": [
      "\u001b[1;31m---------------------------------------------------------------------------\u001b[0m",
      "\u001b[1;31mNameError\u001b[0m                                 Traceback (most recent call last)",
      "\u001b[1;32m<ipython-input-3-be023830df6e>\u001b[0m in \u001b[0;36m<module>\u001b[1;34m\u001b[0m\n\u001b[1;32m----> 1\u001b[1;33m \u001b[0msum\u001b[0m\u001b[1;33m(\u001b[0m\u001b[0ma\u001b[0m\u001b[1;33m)\u001b[0m\u001b[1;33m\u001b[0m\u001b[1;33m\u001b[0m\u001b[0m\n\u001b[0m",
      "\u001b[1;31mNameError\u001b[0m: name 'a' is not defined"
     ]
    }
   ],
   "source": [
    "sum(a)"
   ]
  },
  {
   "cell_type": "code",
   "execution_count": 4,
   "metadata": {},
   "outputs": [],
   "source": [
    "import module"
   ]
  },
  {
   "cell_type": "code",
   "execution_count": 5,
   "metadata": {},
   "outputs": [
    {
     "data": {
      "text/plain": [
       "'welcomesirihave a nice day'"
      ]
     },
     "execution_count": 5,
     "metadata": {},
     "output_type": "execute_result"
    }
   ],
   "source": [
    "module.welcome('siri')"
   ]
  },
  {
   "cell_type": "code",
   "execution_count": 6,
   "metadata": {},
   "outputs": [
    {
     "data": {
      "text/plain": [
       "'welcomesirihave a nice day'"
      ]
     },
     "execution_count": 6,
     "metadata": {},
     "output_type": "execute_result"
    }
   ],
   "source": [
    "module.welcome('siri')"
   ]
  },
  {
   "cell_type": "code",
   "execution_count": 7,
   "metadata": {},
   "outputs": [],
   "source": [
    "import module"
   ]
  },
  {
   "cell_type": "code",
   "execution_count": 8,
   "metadata": {
    "scrolled": true
   },
   "outputs": [
    {
     "data": {
      "text/plain": [
       "'welcomesirihave a nice day'"
      ]
     },
     "execution_count": 8,
     "metadata": {},
     "output_type": "execute_result"
    }
   ],
   "source": [
    "module.welcome('siri')"
   ]
  },
  {
   "cell_type": "code",
   "execution_count": 9,
   "metadata": {},
   "outputs": [],
   "source": [
    "import module\n"
   ]
  },
  {
   "cell_type": "code",
   "execution_count": 10,
   "metadata": {
    "scrolled": true
   },
   "outputs": [
    {
     "data": {
      "text/plain": [
       "'welcomesirihave a nice day'"
      ]
     },
     "execution_count": 10,
     "metadata": {},
     "output_type": "execute_result"
    }
   ],
   "source": [
    "module.welcome('siri')"
   ]
  },
  {
   "cell_type": "code",
   "execution_count": 3,
   "metadata": {},
   "outputs": [],
   "source": [
    "import module"
   ]
  },
  {
   "cell_type": "code",
   "execution_count": 4,
   "metadata": {},
   "outputs": [
    {
     "data": {
      "text/plain": [
       "'welcome  siri  have a nice day'"
      ]
     },
     "execution_count": 4,
     "metadata": {},
     "output_type": "execute_result"
    }
   ],
   "source": [
    "module.welcome('siri')"
   ]
  },
  {
   "cell_type": "code",
   "execution_count": 1,
   "metadata": {},
   "outputs": [],
   "source": [
    "import task1\n"
   ]
  },
  {
   "cell_type": "code",
   "execution_count": 2,
   "metadata": {
    "scrolled": true
   },
   "outputs": [
    {
     "name": "stdout",
     "output_type": "stream",
     "text": [
      "30\n",
      "10\n",
      "200\n",
      "2.0\n",
      "0\n"
     ]
    }
   ],
   "source": [
    "task1.fun(20,10)"
   ]
  },
  {
   "cell_type": "code",
   "execution_count": 30,
   "metadata": {
    "scrolled": true
   },
   "outputs": [
    {
     "name": "stdout",
     "output_type": "stream",
     "text": [
      "20\n",
      "20\n",
      "0\n",
      "***\n",
      "b value should not be 0\n"
     ]
    }
   ],
   "source": [
    "task1.fun(20,0)"
   ]
  },
  {
   "cell_type": "code",
   "execution_count": 31,
   "metadata": {
    "collapsed": true
   },
   "outputs": [
    {
     "name": "stdout",
     "output_type": "stream",
     "text": [
      "20\n",
      "20\n",
      "0\n",
      "***\n",
      "b value should not be 0\n"
     ]
    }
   ],
   "source": [
    "task1.fun(20,0)"
   ]
  },
  {
   "cell_type": "code",
   "execution_count": 32,
   "metadata": {
    "scrolled": true
   },
   "outputs": [
    {
     "name": "stdout",
     "output_type": "stream",
     "text": [
      "30\n",
      "10\n",
      "200\n",
      "***\n",
      "2.0\n"
     ]
    }
   ],
   "source": [
    "task1.fun(20,10)"
   ]
  },
  {
   "cell_type": "code",
   "execution_count": 34,
   "metadata": {},
   "outputs": [
    {
     "name": "stdout",
     "output_type": "stream",
     "text": [
      "30\n",
      "10\n",
      "200\n",
      "***\n",
      "2.0\n"
     ]
    }
   ],
   "source": [
    "task1.fun(20,10)"
   ]
  },
  {
   "cell_type": "code",
   "execution_count": 1,
   "metadata": {},
   "outputs": [],
   "source": [
    "import Packages.module1 as eee"
   ]
  },
  {
   "cell_type": "code",
   "execution_count": 7,
   "metadata": {
    "scrolled": true
   },
   "outputs": [
    {
     "name": "stdout",
     "output_type": "stream",
     "text": [
      "30\n",
      "10\n",
      "200\n",
      "2.0\n",
      "0\n"
     ]
    }
   ],
   "source": [
    "Packages.module1.fun(20,10)"
   ]
  },
  {
   "cell_type": "code",
   "execution_count": 10,
   "metadata": {
    "scrolled": true
   },
   "outputs": [
    {
     "name": "stdout",
     "output_type": "stream",
     "text": [
      "30\n",
      "10\n",
      "200\n",
      "2.0\n",
      "0\n"
     ]
    }
   ],
   "source": [
    "eee.fun(20,10)"
   ]
  },
  {
   "cell_type": "code",
   "execution_count": 2,
   "metadata": {},
   "outputs": [
    {
     "data": {
      "text/plain": [
       "'welcome siri'"
      ]
     },
     "execution_count": 2,
     "metadata": {},
     "output_type": "execute_result"
    }
   ],
   "source": [
    "eee.user('siri')"
   ]
  },
  {
   "cell_type": "markdown",
   "metadata": {},
   "source": [
    "### working  with os module"
   ]
  },
  {
   "cell_type": "code",
   "execution_count": 1,
   "metadata": {},
   "outputs": [],
   "source": [
    "import os"
   ]
  },
  {
   "cell_type": "markdown",
   "metadata": {},
   "source": [
    "### getcwd()\n",
    "1.to get cuurent working directory"
   ]
  },
  {
   "cell_type": "code",
   "execution_count": 2,
   "metadata": {
    "collapsed": true
   },
   "outputs": [
    {
     "data": {
      "text/plain": [
       "'C:\\\\Users\\\\HP\\\\Desktop\\\\python'"
      ]
     },
     "execution_count": 2,
     "metadata": {},
     "output_type": "execute_result"
    }
   ],
   "source": [
    "os.getcwd()"
   ]
  },
  {
   "cell_type": "markdown",
   "metadata": {},
   "source": [
    "### to get the data in the current working directory"
   ]
  },
  {
   "cell_type": "code",
   "execution_count": 5,
   "metadata": {
    "scrolled": true
   },
   "outputs": [
    {
     "data": {
      "text/plain": [
       "['.ipynb_checkpoints',\n",
       " '26.08.2019.ipynb',\n",
       " '27.08.2019.ipynb',\n",
       " '28.08.2019.ipynb',\n",
       " '3-09-2019 .ipynb',\n",
       " '3-9-2019.ipynb',\n",
       " '30.08.2019.ipynb',\n",
       " '31.08.2019.ipynb',\n",
       " '4-09-2019.ipynb',\n",
       " '5-09-2019.ipynb',\n",
       " '6-09-2019.ipynb',\n",
       " '7-09-2018.ipynb',\n",
       " 'book.txt',\n",
       " 'book1.txt',\n",
       " 'eeee.txt',\n",
       " 'images.jpg',\n",
       " 'module.py',\n",
       " 'Packages',\n",
       " 'r.txt',\n",
       " 'task1.py',\n",
       " 'tasks.ipynb',\n",
       " 'Untitled.ipynb',\n",
       " 'www.txt',\n",
       " '__pycache__']"
      ]
     },
     "execution_count": 5,
     "metadata": {},
     "output_type": "execute_result"
    }
   ],
   "source": [
    "os.listdir()"
   ]
  },
  {
   "cell_type": "markdown",
   "metadata": {},
   "source": [
    "### os.rename (oldfilename,newfilename)"
   ]
  },
  {
   "cell_type": "code",
   "execution_count": 6,
   "metadata": {},
   "outputs": [],
   "source": [
    "os.rename('eeee.txt','neweeee.txt')"
   ]
  },
  {
   "cell_type": "code",
   "execution_count": 9,
   "metadata": {
    "scrolled": true
   },
   "outputs": [
    {
     "data": {
      "text/plain": [
       "['.ipynb_checkpoints',\n",
       " '26.08.2019.ipynb',\n",
       " '27.08.2019.ipynb',\n",
       " '28.08.2019.ipynb',\n",
       " '3-09-2019 .ipynb',\n",
       " '3-9-2019.ipynb',\n",
       " '30.08.2019.ipynb',\n",
       " '31.08.2019.ipynb',\n",
       " '4-09-2019.ipynb',\n",
       " '5-09-2019.ipynb',\n",
       " '6-09-2019.ipynb',\n",
       " '7-09-2018.ipynb',\n",
       " 'book.txt',\n",
       " 'book1.txt',\n",
       " 'images.jpg',\n",
       " 'module.py',\n",
       " 'neweeee.txt',\n",
       " 'Packages',\n",
       " 'r.txt',\n",
       " 'task1.py',\n",
       " 'tasks 7-9.ipynb',\n",
       " 'tasks.ipynb',\n",
       " 'Untitled.ipynb',\n",
       " 'www.txt',\n",
       " '__pycache__']"
      ]
     },
     "execution_count": 9,
     "metadata": {},
     "output_type": "execute_result"
    }
   ],
   "source": [
    "os.listdir()"
   ]
  },
  {
   "cell_type": "markdown",
   "metadata": {},
   "source": [
    "#### to add numbers to the files/"
   ]
  },
  {
   "cell_type": "code",
   "execution_count": 11,
   "metadata": {},
   "outputs": [],
   "source": [
    "count=1\n",
    "for oldName in os.listdir():\n",
    "    newName=str(count)+'.'+oldName\n",
    "    os.rename(oldName,newName)\n",
    "    count+=1"
   ]
  },
  {
   "cell_type": "code",
   "execution_count": 12,
   "metadata": {},
   "outputs": [
    {
     "data": {
      "text/plain": [
       "['.ipynb_checkpoints',\n",
       " '1..ipynb_checkpoints',\n",
       " '10.5-09-2019.ipynb',\n",
       " '11.6-09-2019.ipynb',\n",
       " '12.7-09-2018.ipynb',\n",
       " '13.book.txt',\n",
       " '14.book1.txt',\n",
       " '15.images.jpg',\n",
       " '16.module.py',\n",
       " '17.neweeee.txt',\n",
       " '18.Packages',\n",
       " '19.r.txt',\n",
       " '2.26.08.2019.ipynb',\n",
       " '20.task1.py',\n",
       " '21.tasks 7-9.ipynb',\n",
       " '22.tasks.ipynb',\n",
       " '23.Untitled.ipynb',\n",
       " '24.www.txt',\n",
       " '25.__pycache__',\n",
       " '3.27.08.2019.ipynb',\n",
       " '4.28.08.2019.ipynb',\n",
       " '5.3-09-2019 .ipynb',\n",
       " '6.3-9-2019.ipynb',\n",
       " '7-09-2018.ipynb',\n",
       " '7.30.08.2019.ipynb',\n",
       " '8.31.08.2019.ipynb',\n",
       " '9.4-09-2019.ipynb',\n",
       " 'hahaha']"
      ]
     },
     "execution_count": 12,
     "metadata": {},
     "output_type": "execute_result"
    }
   ],
   "source": [
    "os.listdir()"
   ]
  },
  {
   "cell_type": "markdown",
   "metadata": {},
   "source": [
    "### to remove a file by using os commands"
   ]
  },
  {
   "cell_type": "code",
   "execution_count": 13,
   "metadata": {},
   "outputs": [],
   "source": [
    "os.remove(\"hahaha\")"
   ]
  },
  {
   "cell_type": "code",
   "execution_count": 15,
   "metadata": {},
   "outputs": [
    {
     "data": {
      "text/plain": [
       "['.ipynb_checkpoints',\n",
       " '1..ipynb_checkpoints',\n",
       " '10.5-09-2019.ipynb',\n",
       " '11.6-09-2019.ipynb',\n",
       " '12.7-09-2018.ipynb',\n",
       " '13.book.txt',\n",
       " '14.book1.txt',\n",
       " '15.images.jpg',\n",
       " '16.module.py',\n",
       " '17.neweeee.txt',\n",
       " '18.Packages',\n",
       " '19.r.txt',\n",
       " '2.26.08.2019.ipynb',\n",
       " '20.task1.py',\n",
       " '21.tasks 7-9.ipynb',\n",
       " '22.tasks.ipynb',\n",
       " '23.Untitled.ipynb',\n",
       " '24.www.txt',\n",
       " '25.__pycache__',\n",
       " '3.27.08.2019.ipynb',\n",
       " '4.28.08.2019.ipynb',\n",
       " '5.3-09-2019 .ipynb',\n",
       " '6.3-9-2019.ipynb',\n",
       " '7-09-2018.ipynb',\n",
       " '7.30.08.2019.ipynb',\n",
       " '8.31.08.2019.ipynb',\n",
       " '9.4-09-2019.ipynb']"
      ]
     },
     "execution_count": 15,
     "metadata": {},
     "output_type": "execute_result"
    }
   ],
   "source": [
    "os.listdir()"
   ]
  },
  {
   "cell_type": "markdown",
   "metadata": {},
   "source": [
    "#### to delete aa folder"
   ]
  },
  {
   "cell_type": "markdown",
   "metadata": {},
   "source": [
    "### rmdir()\n",
    "to remove empty folder"
   ]
  },
  {
   "cell_type": "code",
   "execution_count": 16,
   "metadata": {},
   "outputs": [],
   "source": [
    "os.rmdir(\"hahaha\")"
   ]
  },
  {
   "cell_type": "markdown",
   "metadata": {},
   "source": [
    "### shutil\n",
    "shutil.rmtree() used to delete the non empty folder"
   ]
  },
  {
   "cell_type": "code",
   "execution_count": 17,
   "metadata": {},
   "outputs": [],
   "source": [
    "import shutil\n"
   ]
  },
  {
   "cell_type": "code",
   "execution_count": 18,
   "metadata": {},
   "outputs": [],
   "source": [
    "shutil.rmtree(\"hehehe\")"
   ]
  },
  {
   "cell_type": "code",
   "execution_count": 22,
   "metadata": {},
   "outputs": [],
   "source": [
    "import os\n",
    "import os.path\n",
    "import shutil"
   ]
  },
  {
   "cell_type": "code",
   "execution_count": 23,
   "metadata": {},
   "outputs": [
    {
     "data": {
      "text/plain": [
       "'C:\\\\Users\\\\HP\\\\Desktop\\\\python'"
      ]
     },
     "execution_count": 23,
     "metadata": {},
     "output_type": "execute_result"
    }
   ],
   "source": [
    "os.getcwd()"
   ]
  },
  {
   "cell_type": "code",
   "execution_count": 27,
   "metadata": {},
   "outputs": [],
   "source": [
    "os.chdir(\"...\")"
   ]
  },
  {
   "cell_type": "code",
   "execution_count": 28,
   "metadata": {},
   "outputs": [
    {
     "data": {
      "text/plain": [
       "'C:\\\\Users\\\\HP\\\\Desktop'"
      ]
     },
     "execution_count": 28,
     "metadata": {},
     "output_type": "execute_result"
    }
   ],
   "source": [
    "os.getcwd()"
   ]
  },
  {
   "cell_type": "code",
   "execution_count": 32,
   "metadata": {},
   "outputs": [],
   "source": [
    "os.chdir(\"d:\")"
   ]
  },
  {
   "cell_type": "code",
   "execution_count": 33,
   "metadata": {},
   "outputs": [
    {
     "data": {
      "text/plain": [
       "'D:\\\\'"
      ]
     },
     "execution_count": 33,
     "metadata": {},
     "output_type": "execute_result"
    }
   ],
   "source": [
    "os.getcwd()"
   ]
  },
  {
   "cell_type": "code",
   "execution_count": 34,
   "metadata": {},
   "outputs": [
    {
     "data": {
      "text/plain": [
       "['$RECYCLE.BIN',\n",
       " '2017',\n",
       " '3 idiotsss',\n",
       " '3idiots',\n",
       " 'CAMPICS (1)',\n",
       " 'chili',\n",
       " 'chili bday',\n",
       " 'chilli birthday pics',\n",
       " 'Devils',\n",
       " 'ding dings',\n",
       " 'double-classes-concept',\n",
       " 'eeeeeeeeeee',\n",
       " 'family',\n",
       " 'frnds',\n",
       " 'fun..ride🚌😍',\n",
       " 'holiday pics(5th sem)',\n",
       " 'kalyan birthday pics',\n",
       " 'kothis',\n",
       " 'lab pics',\n",
       " 'Lalli',\n",
       " 'lalli bday',\n",
       " 'meee',\n",
       " 'movies',\n",
       " 'my bir..pics',\n",
       " 'panels',\n",
       " 'persis marrige pics',\n",
       " 'SANKRANTHI',\n",
       " 'srinu birthday pics',\n",
       " 'ss',\n",
       " 'System Volume Information',\n",
       " 'usha',\n",
       " 'uuuuuuuuuuu',\n",
       " 'Vasu',\n",
       " 'VIZAG',\n",
       " 'vysh birth',\n",
       " 'YouCam Perfect']"
      ]
     },
     "execution_count": 34,
     "metadata": {},
     "output_type": "execute_result"
    }
   ],
   "source": [
    "os.listdir()"
   ]
  },
  {
   "cell_type": "code",
   "execution_count": 35,
   "metadata": {},
   "outputs": [
    {
     "data": {
      "text/plain": [
       "['$RECYCLE.BIN',\n",
       " '2017',\n",
       " '3 idiotsss',\n",
       " '3idiots',\n",
       " 'CAMPICS (1)',\n",
       " 'chili',\n",
       " 'chili bday',\n",
       " 'chilli birthday pics',\n",
       " 'Devils',\n",
       " 'ding dings',\n",
       " 'double-classes-concept',\n",
       " 'eeeeeeeeeee',\n",
       " 'family',\n",
       " 'frnds',\n",
       " 'fun..ride🚌😍',\n",
       " 'holiday pics(5th sem)',\n",
       " 'kalyan birthday pics',\n",
       " 'kothis',\n",
       " 'lab pics',\n",
       " 'Lalli',\n",
       " 'lalli bday',\n",
       " 'meee',\n",
       " 'movies',\n",
       " 'my bir..pics',\n",
       " 'new',\n",
       " 'panels',\n",
       " 'persis marrige pics',\n",
       " 'SANKRANTHI',\n",
       " 'srinu birthday pics',\n",
       " 'ss',\n",
       " 'System Volume Information',\n",
       " 'usha',\n",
       " 'uuuuuuuuuuu',\n",
       " 'Vasu',\n",
       " 'VIZAG',\n",
       " 'vysh birth',\n",
       " 'YouCam Perfect']"
      ]
     },
     "execution_count": 35,
     "metadata": {},
     "output_type": "execute_result"
    }
   ],
   "source": [
    "os.listdir()"
   ]
  },
  {
   "cell_type": "code",
   "execution_count": 36,
   "metadata": {},
   "outputs": [],
   "source": [
    "os.rmdir(\"new\")"
   ]
  },
  {
   "cell_type": "code",
   "execution_count": 37,
   "metadata": {},
   "outputs": [
    {
     "data": {
      "text/plain": [
       "['$RECYCLE.BIN',\n",
       " '2017',\n",
       " '3 idiotsss',\n",
       " '3idiots',\n",
       " 'CAMPICS (1)',\n",
       " 'chili',\n",
       " 'chili bday',\n",
       " 'chilli birthday pics',\n",
       " 'Devils',\n",
       " 'ding dings',\n",
       " 'double-classes-concept',\n",
       " 'eeeeeeeeeee',\n",
       " 'family',\n",
       " 'frnds',\n",
       " 'fun..ride🚌😍',\n",
       " 'holiday pics(5th sem)',\n",
       " 'kalyan birthday pics',\n",
       " 'kothis',\n",
       " 'lab pics',\n",
       " 'Lalli',\n",
       " 'lalli bday',\n",
       " 'meee',\n",
       " 'movies',\n",
       " 'my bir..pics',\n",
       " 'panels',\n",
       " 'persis marrige pics',\n",
       " 'SANKRANTHI',\n",
       " 'srinu birthday pics',\n",
       " 'ss',\n",
       " 'System Volume Information',\n",
       " 'usha',\n",
       " 'uuuuuuuuuuu',\n",
       " 'Vasu',\n",
       " 'VIZAG',\n",
       " 'vysh birth',\n",
       " 'YouCam Perfect']"
      ]
     },
     "execution_count": 37,
     "metadata": {},
     "output_type": "execute_result"
    }
   ],
   "source": [
    "os.listdir()"
   ]
  },
  {
   "cell_type": "code",
   "execution_count": 38,
   "metadata": {},
   "outputs": [
    {
     "data": {
      "text/plain": [
       "['$RECYCLE.BIN',\n",
       " '2017',\n",
       " '3 idiotsss',\n",
       " '3idiots',\n",
       " 'CAMPICS (1)',\n",
       " 'chili',\n",
       " 'chili bday',\n",
       " 'chilli birthday pics',\n",
       " 'Devils',\n",
       " 'ding dings',\n",
       " 'double-classes-concept',\n",
       " 'eeeeeeeeeee',\n",
       " 'family',\n",
       " 'frnds',\n",
       " 'fun..ride🚌😍',\n",
       " 'holiday pics(5th sem)',\n",
       " 'kalyan birthday pics',\n",
       " 'kothis',\n",
       " 'lab pics',\n",
       " 'Lalli',\n",
       " 'lalli bday',\n",
       " 'meee',\n",
       " 'movies',\n",
       " 'my bir..pics',\n",
       " 'new',\n",
       " 'panels',\n",
       " 'persis marrige pics',\n",
       " 'SANKRANTHI',\n",
       " 'srinu birthday pics',\n",
       " 'ss',\n",
       " 'System Volume Information',\n",
       " 'usha',\n",
       " 'uuuuuuuuuuu',\n",
       " 'Vasu',\n",
       " 'VIZAG',\n",
       " 'vysh birth',\n",
       " 'YouCam Perfect']"
      ]
     },
     "execution_count": 38,
     "metadata": {},
     "output_type": "execute_result"
    }
   ],
   "source": [
    "os.listdir()"
   ]
  },
  {
   "cell_type": "code",
   "execution_count": 42,
   "metadata": {},
   "outputs": [],
   "source": [
    "shutil.rmtree(\"new\")"
   ]
  },
  {
   "cell_type": "code",
   "execution_count": 43,
   "metadata": {},
   "outputs": [
    {
     "data": {
      "text/plain": [
       "['$RECYCLE.BIN',\n",
       " '2017',\n",
       " '3 idiotsss',\n",
       " '3idiots',\n",
       " 'CAMPICS (1)',\n",
       " 'chili',\n",
       " 'chili bday',\n",
       " 'chilli birthday pics',\n",
       " 'Devils',\n",
       " 'ding dings',\n",
       " 'double-classes-concept',\n",
       " 'eeeeeeeeeee',\n",
       " 'family',\n",
       " 'frnds',\n",
       " 'fun..ride🚌😍',\n",
       " 'holiday pics(5th sem)',\n",
       " 'kalyan birthday pics',\n",
       " 'kothis',\n",
       " 'lab pics',\n",
       " 'Lalli',\n",
       " 'lalli bday',\n",
       " 'meee',\n",
       " 'movies',\n",
       " 'my bir..pics',\n",
       " 'panels',\n",
       " 'persis marrige pics',\n",
       " 'SANKRANTHI',\n",
       " 'srinu birthday pics',\n",
       " 'ss',\n",
       " 'System Volume Information',\n",
       " 'usha',\n",
       " 'uuuuuuuuuuu',\n",
       " 'Vasu',\n",
       " 'VIZAG',\n",
       " 'vysh birth',\n",
       " 'YouCam Perfect']"
      ]
     },
     "execution_count": 43,
     "metadata": {},
     "output_type": "execute_result"
    }
   ],
   "source": [
    "os.listdir()"
   ]
  },
  {
   "cell_type": "code",
   "execution_count": 50,
   "metadata": {},
   "outputs": [],
   "source": [
    "a=r\"C:\\Users\\HP\\Desktop\\python\"\n",
    "os.chdir(a)"
   ]
  },
  {
   "cell_type": "code",
   "execution_count": 45,
   "metadata": {},
   "outputs": [
    {
     "data": {
      "text/plain": [
       "'C:\\\\Users\\\\HP\\\\Desktop'"
      ]
     },
     "execution_count": 45,
     "metadata": {},
     "output_type": "execute_result"
    }
   ],
   "source": [
    "os.getcwd()"
   ]
  },
  {
   "cell_type": "code",
   "execution_count": 51,
   "metadata": {},
   "outputs": [
    {
     "data": {
      "text/plain": [
       "'C:\\\\Users\\\\HP\\\\Desktop\\\\python'"
      ]
     },
     "execution_count": 51,
     "metadata": {},
     "output_type": "execute_result"
    }
   ],
   "source": [
    "os.getcwd()\n"
   ]
  },
  {
   "cell_type": "markdown",
   "metadata": {},
   "source": [
    "### copy file"
   ]
  },
  {
   "cell_type": "markdown",
   "metadata": {},
   "source": [
    "copyfile(src,dist)"
   ]
  },
  {
   "cell_type": "code",
   "execution_count": 53,
   "metadata": {},
   "outputs": [
    {
     "data": {
      "text/plain": [
       "'24.www.txt'"
      ]
     },
     "execution_count": 53,
     "metadata": {},
     "output_type": "execute_result"
    }
   ],
   "source": [
    "shutil.copyfile('19.r.txt','24.www.txt')"
   ]
  },
  {
   "cell_type": "code",
   "execution_count": 57,
   "metadata": {},
   "outputs": [
    {
     "ename": "NameError",
     "evalue": "name 'path' is not defined",
     "output_type": "error",
     "traceback": [
      "\u001b[1;31m---------------------------------------------------------------------------\u001b[0m",
      "\u001b[1;31mNameError\u001b[0m                                 Traceback (most recent call last)",
      "\u001b[1;32m<ipython-input-57-4f1201b0c69a>\u001b[0m in \u001b[0;36m<module>\u001b[1;34m\u001b[0m\n\u001b[1;32m----> 1\u001b[1;33m \u001b[0mpath\u001b[0m\u001b[1;33m.\u001b[0m\u001b[0misfile\u001b[0m\u001b[1;33m(\u001b[0m\u001b[1;34m'python'\u001b[0m\u001b[1;33m)\u001b[0m\u001b[1;33m\u001b[0m\u001b[1;33m\u001b[0m\u001b[0m\n\u001b[0m",
      "\u001b[1;31mNameError\u001b[0m: name 'path' is not defined"
     ]
    }
   ],
   "source": [
    "path.isfile('python')"
   ]
  },
  {
   "cell_type": "code",
   "execution_count": 59,
   "metadata": {},
   "outputs": [],
   "source": [
    "import os\n",
    "import os.path"
   ]
  },
  {
   "cell_type": "code",
   "execution_count": 60,
   "metadata": {},
   "outputs": [
    {
     "data": {
      "text/plain": [
       "False"
      ]
     },
     "execution_count": 60,
     "metadata": {},
     "output_type": "execute_result"
    }
   ],
   "source": [
    "os.path.isfile('python')"
   ]
  },
  {
   "cell_type": "code",
   "execution_count": null,
   "metadata": {},
   "outputs": [],
   "source": []
  }
 ],
 "metadata": {
  "kernelspec": {
   "display_name": "Python 3",
   "language": "python",
   "name": "python3"
  },
  "language_info": {
   "codemirror_mode": {
    "name": "ipython",
    "version": 3
   },
   "file_extension": ".py",
   "mimetype": "text/x-python",
   "name": "python",
   "nbconvert_exporter": "python",
   "pygments_lexer": "ipython3",
   "version": "3.7.3"
  }
 },
 "nbformat": 4,
 "nbformat_minor": 2
}
