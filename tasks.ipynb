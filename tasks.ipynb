{
 "cells": [
  {
   "cell_type": "markdown",
   "metadata": {},
   "source": [
    "### factorial of a given number  26.08.2019"
   ]
  },
  {
   "cell_type": "code",
   "execution_count": 1,
   "metadata": {},
   "outputs": [
    {
     "name": "stdout",
     "output_type": "stream",
     "text": [
      "a:6\n",
      "720\n"
     ]
    }
   ],
   "source": [
    "fact=1\n",
    "a=int(input(\"a:\"))\n",
    "for i in range(1,a+1):\n",
    "    fact=fact*i\n",
    "\n",
    "print(fact)\n"
   ]
  },
  {
   "cell_type": "markdown",
   "metadata": {},
   "source": [
    "### program to print first 15 numbers 26.08.2019\n"
   ]
  },
  {
   "cell_type": "code",
   "execution_count": 30,
   "metadata": {},
   "outputs": [
    {
     "name": "stdout",
     "output_type": "stream",
     "text": [
      "2\n",
      "3\n",
      "5\n",
      "7\n",
      "11\n",
      "13\n",
      "17\n",
      "19\n",
      "23\n",
      "29\n",
      "31\n",
      "37\n",
      "41\n",
      "43\n",
      "47\n"
     ]
    }
   ],
   "source": [
    "\n",
    "for i in range(1,51):\n",
    "    fact=0\n",
    "    for j in range(1,i+1):\n",
    "        if(i%j==0):\n",
    "            fact=fact+1\n",
    "    if(fact==2):\n",
    "        print(i)"
   ]
  },
  {
   "cell_type": "markdown",
   "metadata": {},
   "source": [
    "## 27.08.19\n",
    "#### check if the number is exist in the given range\n",
    "#### check the number of digits in given number\n",
    "#### check if the given number is a factor of 1000\n",
    "#### calculate the square root of a given number\n",
    "#### print the count of the numbers and avg of that number taken by the user in single line\n",
    "#### palindrome or not\n",
    "#### prime number upto n value using loop\n",
    "#### l,r,k    l and r are range the count of the no of numbers divisible by k \n",
    "#### ISBN vallid if :\n",
    " 1*digit1+2*digit2+3*digit3+.....+10*digit10 is divisible by 11\n",
    "\n",
    "\n",
    "#### lowercase into uppercase//uppercase into lowercase\n",
    "#### given two strings with equal length,you have to find wheather the string is identical are not\n",
    "#### a=1 b=2 c=3 .........z=26    find the sum of the characters in a givn string\n",
    " eg: aba=1+2+1=4\n",
    "\n",
    "\n",
    "\n"
   ]
  },
  {
   "cell_type": "code",
   "execution_count": 10,
   "metadata": {},
   "outputs": [
    {
     "name": "stdout",
     "output_type": "stream",
     "text": [
      "a:5\n",
      "b:10\n",
      "c:7\n",
      "exist\n"
     ]
    }
   ],
   "source": [
    "##exit or not exit\n",
    "a=int(input(\"a:\"))\n",
    "b=int(input(\"b:\"))\n",
    "c=int(input(\"c:\"))\n",
    "if(a<c<b):\n",
    "    print(\"exist\")\n",
    "else:\n",
    "    print(\"not exist\")\n"
   ]
  },
  {
   "cell_type": "code",
   "execution_count": 11,
   "metadata": {},
   "outputs": [
    {
     "name": "stdout",
     "output_type": "stream",
     "text": [
      "a:12345\n",
      "5\n"
     ]
    }
   ],
   "source": [
    "##no of digits in given number\n",
    "a=int(input(\"a:\"))\n",
    "b=str(a)\n",
    "print(len(b))"
   ]
  },
  {
   "cell_type": "code",
   "execution_count": 12,
   "metadata": {},
   "outputs": [
    {
     "name": "stdout",
     "output_type": "stream",
     "text": [
      "a:101\n",
      "not a factor\n"
     ]
    }
   ],
   "source": [
    "##to write a code to find whether the given number is factor of 1000 or not\n",
    "a=int(input(\"a:\"))\n",
    "if 1000%a==0:\n",
    "    print(\"factor of 1000\")\n",
    "else:\n",
    "    print(\"not a factor\")"
   ]
  },
  {
   "cell_type": "code",
   "execution_count": 22,
   "metadata": {},
   "outputs": [
    {
     "name": "stdout",
     "output_type": "stream",
     "text": [
      "a:5\n",
      "square root of given number 5 is 2\n"
     ]
    }
   ],
   "source": [
    "###sqrt of a given number\n",
    "a=int(input(\"a:\"))\n",
    "s=(a**(0.5))\n",
    "print(\"square root of given number\", a,\"is\",int(s))"
   ]
  },
  {
   "cell_type": "code",
   "execution_count": 23,
   "metadata": {},
   "outputs": [
    {
     "name": "stdout",
     "output_type": "stream",
     "text": [
      "1#2#3#4\n",
      "2.5\n"
     ]
    }
   ],
   "source": [
    "### print the count of the numbers and avg of that number taken by the user in single line\n",
    "a=input()\n",
    "a=a.split(\"#\")\n",
    "sum=0\n",
    "count=0\n",
    "for i in a:\n",
    "    sum=sum+int(i)\n",
    "    count=count+1\n",
    "print(sum/count)\n"
   ]
  },
  {
   "cell_type": "code",
   "execution_count": 29,
   "metadata": {},
   "outputs": [
    {
     "name": "stdout",
     "output_type": "stream",
     "text": [
      "abc\n",
      "no\n"
     ]
    }
   ],
   "source": [
    "########## palindrome or not\n",
    "a=input()\n",
    "b=a[::-1]\n",
    "flag=0\n",
    "if(b not in a):\n",
    "       flag=1\n",
    "if(flag==1):\n",
    "   print('no')\n",
    "else:\n",
    "   print('yes')\n"
   ]
  },
  {
   "cell_type": "code",
   "execution_count": 31,
   "metadata": {},
   "outputs": [
    {
     "name": "stdout",
     "output_type": "stream",
     "text": [
      "n:100\n",
      "2\n",
      "3\n",
      "5\n",
      "7\n",
      "11\n",
      "13\n",
      "17\n",
      "19\n",
      "23\n",
      "29\n",
      "31\n",
      "37\n",
      "41\n",
      "43\n",
      "47\n",
      "53\n",
      "59\n",
      "61\n",
      "67\n",
      "71\n",
      "73\n",
      "79\n",
      "83\n",
      "89\n",
      "97\n"
     ]
    }
   ],
   "source": [
    "### prime number upto n value using loop\n",
    "n=int(input(\"n:\"))\n",
    "for i in range(1,n+1):\n",
    "    fact=0\n",
    "    for j in range(1,i+1):\n",
    "        if(i%j==0):\n",
    "            fact=fact+1\n",
    "    if(fact==2):\n",
    "        print(i)"
   ]
  },
  {
   "cell_type": "code",
   "execution_count": 7,
   "metadata": {},
   "outputs": [
    {
     "name": "stdout",
     "output_type": "stream",
     "text": [
      "l:5\n",
      "r:25\n",
      "k:5\n",
      "5\n"
     ]
    }
   ],
   "source": [
    "### l,r,k    l and r are range the count of the no of numbers divisible by k \n",
    "l=int(input(\"l:\"))\n",
    "r=int(input(\"r:\"))\n",
    "k=int(input(\"k:\"))\n",
    "c=0\n",
    "for i in range(l,r+1):\n",
    "    if i%k==0:\n",
    "        c=c+1\n",
    "print(c)\n",
    "    \n",
    "\n",
    "\n"
   ]
  },
  {
   "cell_type": "code",
   "execution_count": 1,
   "metadata": {},
   "outputs": [
    {
     "name": "stdout",
     "output_type": "stream",
     "text": [
      "l:1401601499\n",
      "valid\n"
     ]
    }
   ],
   "source": [
    "### ISBN vallid if :\n",
    "#### 1*digit1+2*digit2+3*digit3+.....+10*digit10 is divisible by 11\n",
    "l=input(\"l:\")\n",
    "s=0\n",
    "c=1\n",
    "for i in l:\n",
    "    s=s+int(i)*c\n",
    "    c+=1\n",
    "if((s%11)==0):\n",
    "    print(\"valid isbn code\")\n",
    "else:\n",
    "    print(\" invalid isbn code\")"
   ]
  },
  {
   "cell_type": "code",
   "execution_count": 4,
   "metadata": {},
   "outputs": [
    {
     "data": {
      "text/plain": [
       "'pYTHON pROgramming'"
      ]
     },
     "execution_count": 4,
     "metadata": {},
     "output_type": "execute_result"
    }
   ],
   "source": [
    "###lowercase into uppercase//uppercase into lowercase\n",
    "a=\"Python ProGRAMMING\"\n",
    "a=a.swapcase()\n",
    "a"
   ]
  },
  {
   "cell_type": "code",
   "execution_count": 4,
   "metadata": {},
   "outputs": [
    {
     "name": "stdout",
     "output_type": "stream",
     "text": [
      "enter fist input:abc\n",
      "enter second input:bca\n",
      "same\n"
     ]
    }
   ],
   "source": [
    "###given two strings with equal length,you have to find wheather the string is identical are not\n",
    "a=input(\"enter fist input:\")\n",
    "b=input(\"enter second input:\")\n",
    "flag=0\n",
    "if(len(a)==len(b)):\n",
    "    for j in a:\n",
    "        if(j not in b):\n",
    "            flag=1\n",
    "    if(flag==1):\n",
    "        print('not same')\n",
    "    else:\n",
    "        print('same')\n",
    "else:\n",
    "    print(\"length not equal\")\n"
   ]
  },
  {
   "cell_type": "code",
   "execution_count": 9,
   "metadata": {},
   "outputs": [
    {
     "name": "stdout",
     "output_type": "stream",
     "text": [
      "enter input:by\n",
      "27\n"
     ]
    }
   ],
   "source": [
    "#### a=1 b=2 c=3 .........z=26    find the sum of the characters in a givn string\n",
    "### eg: aba=1+2+1=4\n",
    "\n",
    "\n",
    "a=input(\"enter input:\")\n",
    "s=0\n",
    "for i in a:\n",
    "    s=s+((ord(i))-(ord('a')))+1\n",
    "print(s)\n",
    "\n"
   ]
  },
  {
   "cell_type": "code",
   "execution_count": 13,
   "metadata": {},
   "outputs": [
    {
     "name": "stdout",
     "output_type": "stream",
     "text": [
      "enter input:LLRDDR\n",
      "x= 0 y= -2\n"
     ]
    }
   ],
   "source": [
    "##E-maze-in:x and y axis needed to take input like LLRDDR\n",
    "a=input(\"enter input:\")\n",
    "x=0\n",
    "y=0\n",
    "for i in a:\n",
    "    if(i=='L'):\n",
    "        x=x-1\n",
    "    if(i=='R'):\n",
    "        x=x+1\n",
    "    if(i=='U'):\n",
    "        y=y+1\n",
    "    if(i=='D'):\n",
    "        y=y-1\n",
    "print(\"x=\",x,\"y=\",y)\n",
    "        \n",
    "        \n",
    "        "
   ]
  },
  {
   "cell_type": "markdown",
   "metadata": {},
   "source": [
    "### STRINGS\n",
    "#### STRING LENGTH"
   ]
  },
  {
   "cell_type": "code",
   "execution_count": 14,
   "metadata": {},
   "outputs": [
    {
     "data": {
      "text/plain": [
       "28"
      ]
     },
     "execution_count": 14,
     "metadata": {},
     "output_type": "execute_result"
    }
   ],
   "source": [
    "s=\"Problem Solving Using Python\"\n",
    "len(s)"
   ]
  },
  {
   "cell_type": "code",
   "execution_count": null,
   "metadata": {},
   "outputs": [],
   "source": []
  }
 ],
 "metadata": {
  "kernelspec": {
   "display_name": "Python 3",
   "language": "python",
   "name": "python3"
  },
  "language_info": {
   "codemirror_mode": {
    "name": "ipython",
    "version": 3
   },
   "file_extension": ".py",
   "mimetype": "text/x-python",
   "name": "python",
   "nbconvert_exporter": "python",
   "pygments_lexer": "ipython3",
   "version": "3.7.3"
  }
 },
 "nbformat": 4,
 "nbformat_minor": 2
}
