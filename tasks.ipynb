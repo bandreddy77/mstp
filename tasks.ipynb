{
 "cells": [
  {
   "cell_type": "markdown",
   "metadata": {},
   "source": [
    "### factorial of a given number  26.08.2019"
   ]
  },
  {
   "cell_type": "code",
   "execution_count": 1,
   "metadata": {},
   "outputs": [
    {
     "name": "stdout",
     "output_type": "stream",
     "text": [
      "a:6\n",
      "720\n"
     ]
    }
   ],
   "source": [
    "fact=1\n",
    "a=int(input(\"a:\"))\n",
    "for i in range(1,a+1):\n",
    "    fact=fact*i\n",
    "\n",
    "print(fact)\n"
   ]
  },
  {
   "cell_type": "markdown",
   "metadata": {},
   "source": [
    "### program to print first 15 numbers 26.08.2019\n"
   ]
  },
  {
   "cell_type": "code",
   "execution_count": 24,
   "metadata": {},
   "outputs": [
    {
     "name": "stdout",
     "output_type": "stream",
     "text": [
      "15\n",
      "70\n"
     ]
    }
   ],
   "source": [
    "\n",
    "for i in range(1,51):\n",
    "    fact=0\n",
    "    for j in range(1,i+1):\n",
    "        if(i%j==0):\n",
    "            fact=fact+1\n",
    "    if(fact==2):\n",
    "        print(i)"
   ]
  },
  {
   "cell_type": "markdown",
   "metadata": {},
   "source": [
    "## 27.08.19\n",
    "#### check if the number is exist in the given range\n",
    "#### check the number of digits in given number\n",
    "#### check if the given number is a factor of 1000\n",
    "#### calculate the square root of a given number\n",
    "#### print the count of the numbers and avg of that number taken by the user in single line\n",
    "#### palindrome or not\n",
    "#### prime number upto n value using loop\n",
    "#### l,r,k    l and r are range the count of the no of numbers divisible by k \n",
    "#### ISBN vallid if :\n",
    " 1*digit1+2*digit2+3*digit3+.....+10*digit10 is divisible by 11\n",
    "\n",
    "\n",
    "#### lowercase into uppercase//uppercase into lowercase\n",
    "#### given two strings with equal length,you have to find wheather the string is identical are not\n",
    "#### a=1 b=2 c=3 .........z=26    find the sum of the characters in a givn string\n",
    " eg: aba=1+2+1=4\n",
    "\n",
    "\n",
    "\n"
   ]
  },
  {
   "cell_type": "code",
   "execution_count": 10,
   "metadata": {},
   "outputs": [
    {
     "name": "stdout",
     "output_type": "stream",
     "text": [
      "a:5\n",
      "b:10\n",
      "c:7\n",
      "exist\n"
     ]
    }
   ],
   "source": [
    "##exit or not exit\n",
    "a=int(input(\"a:\"))\n",
    "b=int(input(\"b:\"))\n",
    "c=int(input(\"c:\"))\n",
    "if(a<c<b):\n",
    "    print(\"exist\")\n",
    "else:\n",
    "    print(\"not exist\")\n"
   ]
  },
  {
   "cell_type": "code",
   "execution_count": 11,
   "metadata": {},
   "outputs": [
    {
     "name": "stdout",
     "output_type": "stream",
     "text": [
      "a:12345\n",
      "5\n"
     ]
    }
   ],
   "source": [
    "##no of digits in given number\n",
    "a=int(input(\"a:\"))\n",
    "b=str(a)\n",
    "print(len(b))"
   ]
  },
  {
   "cell_type": "code",
   "execution_count": 12,
   "metadata": {},
   "outputs": [
    {
     "name": "stdout",
     "output_type": "stream",
     "text": [
      "a:101\n",
      "not a factor\n"
     ]
    }
   ],
   "source": [
    "##to write a code to find whether the given number is factor of 1000 or not\n",
    "a=int(input(\"a:\"))\n",
    "if 1000%a==0:\n",
    "    print(\"factor of 1000\")\n",
    "else:\n",
    "    print(\"not a factor\")"
   ]
  },
  {
   "cell_type": "code",
   "execution_count": 22,
   "metadata": {},
   "outputs": [
    {
     "name": "stdout",
     "output_type": "stream",
     "text": [
      "a:5\n",
      "square root of given number 5 is 2\n"
     ]
    }
   ],
   "source": [
    "###sqrt of a given number\n",
    "a=int(input(\"a:\"))\n",
    "s=(a**(0.5))\n",
    "print(\"square root of given number\", a,\"is\",int(s))"
   ]
  },
  {
   "cell_type": "code",
   "execution_count": 23,
   "metadata": {},
   "outputs": [
    {
     "name": "stdout",
     "output_type": "stream",
     "text": [
      "1#2#3#4\n",
      "2.5\n"
     ]
    }
   ],
   "source": [
    "### print the count of the numbers and avg of that number taken by the user in single line\n",
    "a=input()\n",
    "a=a.split(\"#\")\n",
    "sum=0\n",
    "count=0\n",
    "for i in a:\n",
    "    sum=sum+int(i)\n",
    "    count=count+1\n",
    "print(sum/count)\n"
   ]
  },
  {
   "cell_type": "code",
   "execution_count": 29,
   "metadata": {},
   "outputs": [
    {
     "name": "stdout",
     "output_type": "stream",
     "text": [
      "abc\n",
      "no\n"
     ]
    }
   ],
   "source": [
    "########## palindrome or not\n",
    "a=input()\n",
    "b=a[::-1]\n",
    "flag=0\n",
    "if(b not in a):\n",
    "       flag=1\n",
    "if(flag==1):\n",
    "   print('no')\n",
    "else:\n",
    "   print('yes')\n"
   ]
  },
  {
   "cell_type": "code",
   "execution_count": 31,
   "metadata": {},
   "outputs": [
    {
     "name": "stdout",
     "output_type": "stream",
     "text": [
      "n:100\n",
      "2\n",
      "3\n",
      "5\n",
      "7\n",
      "11\n",
      "13\n",
      "17\n",
      "19\n",
      "23\n",
      "29\n",
      "31\n",
      "37\n",
      "41\n",
      "43\n",
      "47\n",
      "53\n",
      "59\n",
      "61\n",
      "67\n",
      "71\n",
      "73\n",
      "79\n",
      "83\n",
      "89\n",
      "97\n"
     ]
    }
   ],
   "source": [
    "### prime number upto n value using loop\n",
    "n=int(input(\"n:\"))\n",
    "for i in range(1,n+1):\n",
    "    fact=0\n",
    "    for j in range(1,i+1):\n",
    "        if(i%j==0):\n",
    "            fact=fact+1\n",
    "    if(fact==2):\n",
    "        print(i)"
   ]
  },
  {
   "cell_type": "code",
   "execution_count": 7,
   "metadata": {},
   "outputs": [
    {
     "name": "stdout",
     "output_type": "stream",
     "text": [
      "l:5\n",
      "r:25\n",
      "k:5\n",
      "5\n"
     ]
    }
   ],
   "source": [
    "### l,r,k    l and r are range the count of the no of numbers divisible by k \n",
    "l=int(input(\"l:\"))\n",
    "r=int(input(\"r:\"))\n",
    "k=int(input(\"k:\"))\n",
    "c=0\n",
    "for i in range(l,r+1):\n",
    "    if i%k==0:\n",
    "        c=c+1\n",
    "print(c)\n",
    "    \n",
    "\n",
    "\n"
   ]
  },
  {
   "cell_type": "code",
   "execution_count": 1,
   "metadata": {},
   "outputs": [
    {
     "name": "stdout",
     "output_type": "stream",
     "text": [
      "l:1401601499\n",
      "valid\n"
     ]
    }
   ],
   "source": [
    "### ISBN vallid if :\n",
    "#### 1*digit1+2*digit2+3*digit3+.....+10*digit10 is divisible by 11\n",
    "l=input(\"l:\")\n",
    "s=0\n",
    "c=1\n",
    "for i in l:\n",
    "    s=s+int(i)*c\n",
    "    c+=1\n",
    "if((s%11)==0):\n",
    "    print(\"valid isbn code\")\n",
    "else:\n",
    "    print(\" invalid isbn code\")"
   ]
  },
  {
   "cell_type": "code",
   "execution_count": 4,
   "metadata": {},
   "outputs": [
    {
     "data": {
      "text/plain": [
       "'pYTHON pROgramming'"
      ]
     },
     "execution_count": 4,
     "metadata": {},
     "output_type": "execute_result"
    }
   ],
   "source": [
    "###lowercase into uppercase//uppercase into lowercase\n",
    "a=\"Python ProGRAMMING\"\n",
    "a=a.swapcase()\n",
    "a"
   ]
  },
  {
   "cell_type": "code",
   "execution_count": 4,
   "metadata": {},
   "outputs": [
    {
     "name": "stdout",
     "output_type": "stream",
     "text": [
      "enter fist input:abc\n",
      "enter second input:bca\n",
      "same\n"
     ]
    }
   ],
   "source": [
    "###given two strings with equal length,you have to find wheather the string is identical are not\n",
    "a=input(\"enter fist input:\")\n",
    "b=input(\"enter second input:\")\n",
    "flag=0\n",
    "if(len(a)==len(b)):\n",
    "    for j in a:\n",
    "        if(j not in b):\n",
    "            flag=1\n",
    "    if(flag==1):\n",
    "        print('not same')\n",
    "    else:\n",
    "        print('same')\n",
    "else:\n",
    "    print(\"length not equal\")\n"
   ]
  },
  {
   "cell_type": "code",
   "execution_count": 9,
   "metadata": {},
   "outputs": [
    {
     "name": "stdout",
     "output_type": "stream",
     "text": [
      "enter input:by\n",
      "27\n"
     ]
    }
   ],
   "source": [
    "#### a=1 b=2 c=3 .........z=26    find the sum of the characters in a givn string\n",
    "### eg: aba=1+2+1=4\n",
    "\n",
    "\n",
    "a=input(\"enter input:\")\n",
    "s=0\n",
    "for i in a:\n",
    "    s=s+((ord(i))-(ord('a')))+1\n",
    "print(s)\n",
    "\n"
   ]
  },
  {
   "cell_type": "code",
   "execution_count": 13,
   "metadata": {},
   "outputs": [
    {
     "name": "stdout",
     "output_type": "stream",
     "text": [
      "enter input:LLRDDR\n",
      "x= 0 y= -2\n"
     ]
    }
   ],
   "source": [
    "##E-maze-in:x and y axis needed to take input like LLRDDR\n",
    "a=input(\"enter input:\")\n",
    "x=0\n",
    "y=0\n",
    "for i in a:\n",
    "    if(i=='L'):\n",
    "        x=x-1\n",
    "    if(i=='R'):\n",
    "        x=x+1\n",
    "    if(i=='U'):\n",
    "        y=y+1\n",
    "    if(i=='D'):\n",
    "        y=y-1\n",
    "print(\"x=\",x,\"y=\",y)\n",
    "        \n",
    "        \n",
    "        "
   ]
  },
  {
   "cell_type": "markdown",
   "metadata": {},
   "source": [
    "### STRINGS\n",
    "#### STRING LENGTH"
   ]
  },
  {
   "cell_type": "code",
   "execution_count": 14,
   "metadata": {},
   "outputs": [
    {
     "data": {
      "text/plain": [
       "28"
      ]
     },
     "execution_count": 14,
     "metadata": {},
     "output_type": "execute_result"
    }
   ],
   "source": [
    "s=\"Problem Solving Using Python\"\n",
    "len(s)"
   ]
  },
  {
   "cell_type": "markdown",
   "metadata": {},
   "source": [
    "## 28.08.19"
   ]
  },
  {
   "cell_type": "markdown",
   "metadata": {},
   "source": [
    "### Solve the given arithmetic expression in string form\n",
    "eg: I/p:-\"2*3\" O/p:-6¶"
   ]
  },
  {
   "cell_type": "code",
   "execution_count": 2,
   "metadata": {},
   "outputs": [
    {
     "name": "stdout",
     "output_type": "stream",
     "text": [
      "Enter the string:2 * 3\n",
      "6\n"
     ]
    }
   ],
   "source": [
    "a=input(\"Enter the string:\")\n",
    "a=a.split()\n",
    "if a[1]=='+':\n",
    "    output=int(a[0])+int(a[2])\n",
    "if a[1]=='-':\n",
    "    output=int(a[0])-int(a[2])\n",
    "if a[1]=='*':\n",
    "    output=int(a[0])*int(a[2])\n",
    "if a[1]=='/':\n",
    "    output=int(a[0])/int(a[2])\n",
    "if a[1]=='%':\n",
    "    output=int(a[0])%int(a[2])\n",
    "print(output)"
   ]
  },
  {
   "cell_type": "markdown",
   "metadata": {},
   "source": [
    "### write the program to print the input numbers as output.stop the printing input after reading the input as 42."
   ]
  },
  {
   "cell_type": "code",
   "execution_count": 3,
   "metadata": {},
   "outputs": [
    {
     "name": "stdout",
     "output_type": "stream",
     "text": [
      "\n",
      "Enter the number:5\n",
      "5\n",
      "Enter the number:41\n",
      "41\n",
      "Enter the number:43\n",
      "43\n",
      "Enter the number:42\n"
     ]
    }
   ],
   "source": [
    "a=''\n",
    "while a!=42:\n",
    "    print(a)\n",
    "    a=int(input(\"Enter the number:\"))"
   ]
  },
  {
   "cell_type": "markdown",
   "metadata": {},
   "source": [
    "### Profile Photo Task:\n",
    "### if W&H<L -------- \"UPLOAD ANOTHER\"\n",
    "### if W&H>L -------- \"ACCEPTED\"\n",
    "### if W&H are different then \"CROP IT\""
   ]
  },
  {
   "cell_type": "code",
   "execution_count": 4,
   "metadata": {},
   "outputs": [
    {
     "name": "stdout",
     "output_type": "stream",
     "text": [
      "Enter number of photos:2\n",
      "Enter the values of W and H:180 200\n",
      "CROP IT\n",
      "Enter the values of W and H:150 150\n",
      "UPLOAD ANOTHER\n"
     ]
    }
   ],
   "source": [
    "L=180\n",
    "N=int(input(\"Enter number of photos:\"))\n",
    "for i in range(N):\n",
    "    a=input(\"Enter the values of W and H:\")\n",
    "    W,H=a.split()\n",
    "    if int(W)<L or L>int(H):\n",
    "        print(\"UPLOAD ANOTHER\")\n",
    "    elif int(W)==int(H)>L:\n",
    "        print(\"ACCEPTED\")\n",
    "    else:\n",
    "        print(\"CROP IT\")"
   ]
  },
  {
   "cell_type": "markdown",
   "metadata": {},
   "source": [
    "### 30.08.2019"
   ]
  },
  {
   "cell_type": "markdown",
   "metadata": {},
   "source": [
    "#### create a function to find a factorial of a number"
   ]
  },
  {
   "cell_type": "code",
   "execution_count": 3,
   "metadata": {},
   "outputs": [
    {
     "name": "stdout",
     "output_type": "stream",
     "text": [
      "120\n"
     ]
    }
   ],
   "source": [
    "def fact(n):\n",
    "    c=1\n",
    "    for i in range(1,n):\n",
    "        c=c*i\n",
    "    print(c)\n",
    "fact(6)\n",
    "        \n",
    "        "
   ]
  },
  {
   "cell_type": "markdown",
   "metadata": {},
   "source": [
    "### function to print all number divisible by 6 and not a factor of 100 in given range(lb,ub)inclusive"
   ]
  },
  {
   "cell_type": "code",
   "execution_count": 14,
   "metadata": {},
   "outputs": [
    {
     "name": "stdout",
     "output_type": "stream",
     "text": [
      "60\n",
      "100\n",
      "60\n",
      "66\n",
      "72\n",
      "78\n",
      "84\n",
      "90\n",
      "96\n"
     ]
    }
   ],
   "source": [
    "def fun():\n",
    "    a=int(input())\n",
    "    n=int(input())\n",
    "    for i in range(a,n+1):\n",
    "        if((i%6==0)and(100%i!=0)):\n",
    "            print(i)\n",
    "fun()"
   ]
  },
  {
   "cell_type": "code",
   "execution_count": 13,
   "metadata": {},
   "outputs": [
    {
     "name": "stdout",
     "output_type": "stream",
     "text": [
      "60\n",
      "66\n",
      "72\n",
      "78\n",
      "84\n",
      "90\n",
      "96\n",
      "102\n",
      "108\n",
      "114\n",
      "120\n"
     ]
    }
   ],
   "source": [
    "def fun(a,n):\n",
    "    for i in range(a,n+1):\n",
    "        if((i%6==0)and(100%i)):\n",
    "            print(i)\n",
    "fun(60,120)"
   ]
  },
  {
   "cell_type": "markdown",
   "metadata": {},
   "source": [
    "### function to find the average of cubes of all the even numbers in a given range(lb,ub)inclusive"
   ]
  },
  {
   "cell_type": "code",
   "execution_count": 22,
   "metadata": {},
   "outputs": [
    {
     "name": "stdout",
     "output_type": "stream",
     "text": [
      "360.0\n"
     ]
    }
   ],
   "source": [
    "def fun(a,n):\n",
    "    sum=0\n",
    "    c=0\n",
    "    for i in range(a,n+1):\n",
    "        if(i%2==0):\n",
    "            sum+=(i**3)\n",
    "            c=c+1\n",
    "    print(sum/c)\n",
    "    \n",
    "fun(1,10)"
   ]
  },
  {
   "cell_type": "markdown",
   "metadata": {},
   "source": [
    "### function to generate list of factors for a given number"
   ]
  },
  {
   "cell_type": "code",
   "execution_count": 24,
   "metadata": {},
   "outputs": [
    {
     "name": "stdout",
     "output_type": "stream",
     "text": [
      "1\n",
      "2\n",
      "3\n",
      "6\n"
     ]
    }
   ],
   "source": [
    "def fun(n):\n",
    "    for i in range(1,n+1):\n",
    "        if(n%i==0):\n",
    "            print(i)\n",
    "fun(6)"
   ]
  },
  {
   "cell_type": "markdown",
   "metadata": {},
   "source": [
    "### function to calculate the number is prime are not"
   ]
  },
  {
   "cell_type": "code",
   "execution_count": 4,
   "metadata": {},
   "outputs": [
    {
     "name": "stdout",
     "output_type": "stream",
     "text": [
      "enter a number17\n",
      "17 is a prime\n"
     ]
    }
   ],
   "source": [
    "def fun(i):\n",
    "    flag=0\n",
    "    for j in range(2,int(i**(1/2))+1):\n",
    "        if(i%j==0):\n",
    "            flag+=1\n",
    "    if(flag==0):\n",
    "        print(i,\"is a prime\")  \n",
    "    else:\n",
    "        print(i,\" is not a prime\")\n",
    "\n",
    "n=int(input(\"enter a number\"))\n",
    "\n",
    "fun(n)"
   ]
  },
  {
   "cell_type": "markdown",
   "metadata": {},
   "source": [
    "### function to calculate average of first n numbers"
   ]
  },
  {
   "cell_type": "code",
   "execution_count": 5,
   "metadata": {},
   "outputs": [
    {
     "name": "stdout",
     "output_type": "stream",
     "text": [
      "enter a number17\n",
      "25.88235294117647\n"
     ]
    }
   ],
   "source": [
    "def firstnprime(n):\n",
    "    i=1\n",
    "    x=2\n",
    "    s=0\n",
    "    flag=0\n",
    "    while i<=n:\n",
    "        for j in range(2,x):\n",
    "            if(x%j==0):\n",
    "                flag+=1\n",
    "        if(flag==0):\n",
    "            i+=1\n",
    "            s+=x\n",
    "            x+=1\n",
    "        else:\n",
    "            x=x+1\n",
    "            flag=0\n",
    "    return s/n\n",
    "n=int(input('enter a number'))\n",
    "print(firstnprime(n))\n"
   ]
  },
  {
   "cell_type": "markdown",
   "metadata": {},
   "source": []
  },
  {
   "cell_type": "code",
   "execution_count": 26,
   "metadata": {},
   "outputs": [
    {
     "name": "stdout",
     "output_type": "stream",
     "text": [
      "5\n",
      "10\n",
      "6\n"
     ]
    }
   ],
   "source": [
    "\n",
    "def perfectnum(l,u):\n",
    "    s=0\n",
    "    for i in range(l,u+1):\n",
    "        for j in range(1,i):\n",
    "            if(i%j==0):\n",
    "                s+=j\n",
    "        if(s==i):\n",
    "            print(i)\n",
    "        s=0\n",
    "a=int(input())\n",
    "b=int(input())\n",
    "perfectnum(a,b)\n",
    "\n"
   ]
  },
  {
   "cell_type": "markdown",
   "metadata": {},
   "source": [
    "#### find the sumof prime numbers from 10 to 30 using functions both 10 and 30 are inclusive"
   ]
  },
  {
   "cell_type": "code",
   "execution_count": 6,
   "metadata": {},
   "outputs": [
    {
     "name": "stdout",
     "output_type": "stream",
     "text": [
      "112\n"
     ]
    }
   ],
   "source": [
    "def fun(a,b):\n",
    "    for i in range"
   ]
  },
  {
   "cell_type": "markdown",
   "metadata": {},
   "source": [
    "### 3-9-2019"
   ]
  },
  {
   "cell_type": "markdown",
   "metadata": {},
   "source": [
    "### task 1"
   ]
  },
  {
   "cell_type": "markdown",
   "metadata": {},
   "source": [
    "### find highest scored person name\n"
   ]
  },
  {
   "cell_type": "code",
   "execution_count": 1,
   "metadata": {},
   "outputs": [],
   "source": [
    "stu=[['sai',10,20,30],['lakshmi',20,30,40],['raju',20,30,40],['sri',10,20,30],['rani',10,30,40]]"
   ]
  },
  {
   "cell_type": "code",
   "execution_count": 2,
   "metadata": {},
   "outputs": [
    {
     "name": "stdout",
     "output_type": "stream",
     "text": [
      "['lakshmi', 'raju']\n"
     ]
    }
   ],
   "source": [
    "b=0\n",
    "j=[]\n",
    "for i in stu:\n",
    "    m=i[1]+i[2]+i[3]\n",
    "    if(b<m):\n",
    "        b=m\n",
    "        j=[i[0]]\n",
    "    elif(m==b):\n",
    "        j.append(i[0])\n",
    "print(j)"
   ]
  },
  {
   "cell_type": "markdown",
   "metadata": {},
   "source": [
    "### task2"
   ]
  },
  {
   "cell_type": "code",
   "execution_count": 4,
   "metadata": {},
   "outputs": [],
   "source": [
    "stud=[[1,30,40],[30,40,100],[2,50,10]]\n"
   ]
  },
  {
   "cell_type": "code",
   "execution_count": 5,
   "metadata": {},
   "outputs": [
    {
     "name": "stdout",
     "output_type": "stream",
     "text": [
      "[[1, 30, 40], [30, 40, 100], [2, 50, 10]]\n",
      "[[2, 50, 10], [1, 30, 40], [30, 40, 100]]\n"
     ]
    }
   ],
   "source": [
    "#    [rno,sub1,sub2]\n",
    "\n",
    "print(stud)\n",
    "for i in stud:\n",
    "    i.reverse()\n",
    "stud.sort()\n",
    "for i in stud:\n",
    "    i.reverse()\n",
    "print(stud)"
   ]
  },
  {
   "cell_type": "markdown",
   "metadata": {},
   "source": [
    "### task3\n",
    "### find the sum of digits\n",
    "### find the number of characters (a-z and A-Z)\n",
    "### find number of digits\n",
    "### find average of digits\n",
    "### find lucky number(example 1234=1+2+3+4=10=1+0=1(lucky number)"
   ]
  },
  {
   "cell_type": "code",
   "execution_count": 6,
   "metadata": {},
   "outputs": [
    {
     "name": "stdout",
     "output_type": "stream",
     "text": [
      "6\n"
     ]
    }
   ],
   "source": [
    "def sumOfNum(data):\n",
    "    s=0\n",
    "    for i in data:\n",
    "        if i.isdigit():\n",
    "            s+=int(i)\n",
    "    return s\n",
    "data='sairam 123 lakshmi'\n",
    "print(sumOfNum(data))"
   ]
  },
  {
   "cell_type": "code",
   "execution_count": 7,
   "metadata": {},
   "outputs": [
    {
     "name": "stdout",
     "output_type": "stream",
     "text": [
      "13\n"
     ]
    }
   ],
   "source": [
    "s=0\n",
    "for i in data:\n",
    "    if i.isalpha():\n",
    "        s+=1\n",
    "print(s)"
   ]
  },
  {
   "cell_type": "code",
   "execution_count": 8,
   "metadata": {},
   "outputs": [
    {
     "name": "stdout",
     "output_type": "stream",
     "text": [
      "3\n"
     ]
    }
   ],
   "source": [
    "s=0\n",
    "for i in data:\n",
    "    if i.isdigit():\n",
    "        s+=1\n",
    "print(s)"
   ]
  },
  {
   "cell_type": "code",
   "execution_count": 9,
   "metadata": {},
   "outputs": [
    {
     "name": "stdout",
     "output_type": "stream",
     "text": [
      "2.0\n"
     ]
    }
   ],
   "source": [
    "s=0\n",
    "c=0\n",
    "for i in data:\n",
    "    if i.isdigit():\n",
    "        s+=int(i)\n",
    "        c+=1\n",
    "print(s/c)"
   ]
  },
  {
   "cell_type": "code",
   "execution_count": 10,
   "metadata": {},
   "outputs": [
    {
     "name": "stdout",
     "output_type": "stream",
     "text": [
      "lucky number is   1\n"
     ]
    }
   ],
   "source": [
    "data='sairam 12345553 lakshmi'\n",
    "while len(data)!=1:\n",
    "    data=str(sumOfNum(data))\n",
    "print('lucky number is  ',data)"
   ]
  },
  {
   "cell_type": "markdown",
   "metadata": {},
   "source": [
    "### 4-9-2019"
   ]
  },
  {
   "cell_type": "code",
   "execution_count": 3,
   "metadata": {},
   "outputs": [
    {
     "name": "stdout",
     "output_type": "stream",
     "text": [
      "9912116547\n",
      "valid\n"
     ]
    }
   ],
   "source": [
    "# 1 . create function for mobile number validator\n",
    "def numval(n):\n",
    "   import re\n",
    "   if re.search('^[6-9]\\d{9}$',n):\n",
    "       print('valid')\n",
    "   else:\n",
    "       print('invalid')\n",
    "n=input()\n",
    "numval(n)\n"
   ]
  },
  {
   "cell_type": "code",
   "execution_count": 6,
   "metadata": {},
   "outputs": [
    {
     "name": "stdout",
     "output_type": "stream",
     "text": [
      "A,SRIRAM\n",
      "valid\n"
     ]
    }
   ],
   "source": [
    "##name validator (A.sairam,sairam.A,A Sairam,sairam A,sairam)\n",
    "def nameValid(name):\n",
    "   import re\n",
    "   if re.search('^[a-zA-Z]*.[a-zA-Z]+$',name):\n",
    "       return 'valid'\n",
    "   else:\n",
    "       return 'invalid'\n",
    "\n",
    "name=input()\n",
    "print(nameValid(name))\n"
   ]
  },
  {
   "cell_type": "code",
   "execution_count": 9,
   "metadata": {},
   "outputs": [
    {
     "name": "stdout",
     "output_type": "stream",
     "text": [
      "True\n"
     ]
    }
   ],
   "source": [
    "def valid(a,b):\n",
    "  import re\n",
    "  if re.search(a,b):\n",
    "      return 'True'\n",
    "  else:\n",
    "      return 'False'\n",
    "print(valid('^\\D{10}$','abdef@#des'))\n"
   ]
  },
  {
   "cell_type": "markdown",
   "metadata": {},
   "source": [
    "### 5-09-2019"
   ]
  },
  {
   "cell_type": "markdown",
   "metadata": {},
   "source": [
    "### copying the data from one file to another file"
   ]
  },
  {
   "cell_type": "code",
   "execution_count": null,
   "metadata": {},
   "outputs": [],
   "source": [
    "fh = open('book.txt','r')\n",
    "fh1=open(\"book1.txt\",'a')\n",
    "data=fh.read()\n",
    "fh1.write(data)\n",
    "fh1.close()\n",
    "\n",
    "fh.close()"
   ]
  }
 ],
 "metadata": {
  "kernelspec": {
   "display_name": "Python 3",
   "language": "python",
   "name": "python3"
  },
  "language_info": {
   "codemirror_mode": {
    "name": "ipython",
    "version": 3
   },
   "file_extension": ".py",
   "mimetype": "text/x-python",
   "name": "python",
   "nbconvert_exporter": "python",
   "pygments_lexer": "ipython3",
   "version": "3.7.3"
  }
 },
 "nbformat": 4,
 "nbformat_minor": 2
}
